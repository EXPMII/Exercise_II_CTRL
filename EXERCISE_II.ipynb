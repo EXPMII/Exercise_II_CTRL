{
 "cells": [
  {
   "cell_type": "markdown",
   "id": "041e208a",
   "metadata": {},
   "source": [
    "### Exercise II: Exploratory Data Analysis ###\n",
    "\n",
    "What you write here will NOT be saved!\n",
    "Please solve the provided exercises to answer the questions in the previous tab (in the experiment window)."
   ]
  },
  {
   "cell_type": "code",
   "execution_count": null,
   "id": "4818b869",
   "metadata": {},
   "outputs": [],
   "source": [
    "import numpy as np\n",
    "import pandas as pd\n",
    "import matplotlib as mpl\n",
    "import statsmodels\n",
    "\n",
    "df = pd.read_csv('Data_II.csv', sep=';')"
   ]
  },
  {
   "cell_type": "markdown",
   "id": "6434cd72",
   "metadata": {},
   "source": [
    "#### a) Please create a line plot for both series."
   ]
  },
  {
   "cell_type": "code",
   "execution_count": null,
   "id": "91c5eb4f",
   "metadata": {},
   "outputs": [],
   "source": []
  },
  {
   "cell_type": "markdown",
   "id": "77018718",
   "metadata": {},
   "source": [
    "#### b) Please create a histogram for both series in the same diagram (with 30 bins)."
   ]
  },
  {
   "cell_type": "code",
   "execution_count": null,
   "id": "c2c50cf0",
   "metadata": {},
   "outputs": [],
   "source": []
  },
  {
   "cell_type": "markdown",
   "id": "4d553c8d",
   "metadata": {},
   "source": [
    "#### c) Please create a scatterplot of both series."
   ]
  },
  {
   "cell_type": "code",
   "execution_count": null,
   "id": "fd408176",
   "metadata": {},
   "outputs": [],
   "source": []
  }
 ],
 "metadata": {
  "kernelspec": {
   "display_name": "mainenv",
   "language": "python",
   "name": "mainenv"
  },
  "language_info": {
   "codemirror_mode": {
    "name": "ipython",
    "version": 3
   },
   "file_extension": ".py",
   "mimetype": "text/x-python",
   "name": "python",
   "nbconvert_exporter": "python",
   "pygments_lexer": "ipython3",
   "version": "3.11.3"
  }
 },
 "nbformat": 4,
 "nbformat_minor": 5
}
